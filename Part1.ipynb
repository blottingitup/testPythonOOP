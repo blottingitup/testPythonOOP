{
 "cells": [
  {
   "cell_type": "code",
   "id": "initial_id",
   "metadata": {
    "collapsed": true
   },
   "source": [
    "class Item:\n",
    "    pay_rate = 0.8 # Class attribute\n",
    "\n",
    "    # Magic method __init__ is initialized when instance is created\n",
    "    def __init__(self, name: str, price: float, quantity=0): # Initialize arguments, differentiate mandatory parameters\n",
    "        # assert: Run validations to the received arguments\n",
    "        assert price >= 0, f\"Price {price} is not greater or equal to 0\"\n",
    "        assert quantity >= 0, f\"Quantity {quantity} is not greater or equal to 0\"\n",
    "\n",
    "        # Assign to self object\n",
    "        self.name = name\n",
    "        self.price = price\n",
    "        self.quantity = quantity\n",
    "\n",
    "    def calculate_total_price(self):\n",
    "        return self.price * self.quantity\n",
    "\n",
    "    def apply_discount(self):\n",
    "        self.price = self.price * Item.pay_rate"
   ],
   "outputs": [],
   "execution_count": null
  },
  {
   "metadata": {},
   "cell_type": "code",
   "source": [
    "item1 = Item(\"Phone\", 100, 1)\n",
    "item2 = Item(\"Laptop\", 1000, 3)"
   ],
   "id": "5243dd095100954e",
   "outputs": [],
   "execution_count": null
  },
  {
   "metadata": {},
   "cell_type": "code",
   "source": [
    "print(item1.calculate_total_price())\n",
    "print(item2.calculate_total_price())"
   ],
   "id": "8fe5c37de40f9137",
   "outputs": [],
   "execution_count": null
  },
  {
   "metadata": {},
   "cell_type": "code",
   "source": [
    "print(Item.pay_rate)\n",
    "print(item1.pay_rate) # if no attribute on instance level, find on class level\n",
    "print(item2.pay_rate)"
   ],
   "id": "29bc6a32c4c05a6f",
   "outputs": [],
   "execution_count": null
  },
  {
   "metadata": {},
   "cell_type": "code",
   "source": [
    "print(Item.__dict__) # __dict__ shows all the attributes, convert to dictionary\n",
    "print(item1.__dict__)"
   ],
   "id": "8572af89e9af7759",
   "outputs": [],
   "execution_count": null
  },
  {
   "metadata": {},
   "cell_type": "code",
   "outputs": [],
   "execution_count": null,
   "source": "",
   "id": "58626b92a6ff613c"
  }
 ],
 "metadata": {
  "kernelspec": {
   "display_name": "Python [conda env:base] *",
   "language": "python",
   "name": "conda-base-py"
  },
  "language_info": {
   "codemirror_mode": {
    "name": "ipython",
    "version": 2
   },
   "file_extension": ".py",
   "mimetype": "text/x-python",
   "name": "python",
   "nbconvert_exporter": "python",
   "pygments_lexer": "ipython2",
   "version": "2.7.6"
  }
 },
 "nbformat": 4,
 "nbformat_minor": 5
}
