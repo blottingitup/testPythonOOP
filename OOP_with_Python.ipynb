{
 "cells": [
  {
   "cell_type": "code",
   "id": "initial_id",
   "metadata": {
    "collapsed": true,
    "ExecuteTime": {
     "end_time": "2025-07-07T08:43:24.207203Z",
     "start_time": "2025-07-07T08:43:24.202202Z"
    }
   },
   "source": [
    "import csv\n",
    "\n",
    "class Item:\n",
    "    pay_rate = 0.8 # Class attribute\n",
    "    all = []\n",
    "\n",
    "    # Magic method __init__ is initialized when instance is created\n",
    "    def __init__(self, name: str, price: float, quantity=0):  # Initialize arguments, differentiate mandatory parameters\n",
    "        # assert: Run validations to the received arguments\n",
    "        assert price >= 0, f\"Price {price} is not greater or equal to 0\"\n",
    "        assert quantity >= 0, f\"Quantity {quantity} is not greater or equal to 0\"\n",
    "\n",
    "        # Assign to self object\n",
    "        self.name = name\n",
    "        self.price = price\n",
    "        self.quantity = quantity\n",
    "\n",
    "        # Actions to execute\n",
    "        Item.all.append(self)\n",
    "\n",
    "    def calculate_total_price(self):\n",
    "        return self.price * self.quantity\n",
    "\n",
    "    def apply_discount(self):\n",
    "        self.price = self.price * self.pay_rate\n",
    "\n",
    "    # Use CSV for storing data, items.csv\n",
    "    # Class method: can be accessed from class level only\n",
    "    # cls: class object is passed as first argument\n",
    "    @classmethod\n",
    "    def instantiate_from_csv(cls):\n",
    "        with open('items.csv', 'r') as f:\n",
    "            reader = csv.DictReader(f)\n",
    "            items = list(reader)\n",
    "\n",
    "        for item in items:\n",
    "            Item(\n",
    "                name = item.get('name'),\n",
    "                price = float(item.get('price')),\n",
    "                quantity = int(item.get('quantity'))\n",
    "            )\n",
    "\n",
    "    # Static method: no need to send object as first argument\n",
    "    @staticmethod\n",
    "    def is_integer(num):\n",
    "        if isinstance(num, float):\n",
    "            # Count out the floats that are point zero\n",
    "            return num.is_integer()\n",
    "        elif isinstance(num, int):\n",
    "            return True\n",
    "        else:\n",
    "            return False\n",
    "\n",
    "    # Difference from __str__:\n",
    "    def __repr__(self):  # Represent\n",
    "        return f\"Item('{self.name}', '{self.price}', '{self.quantity}')\"\n",
    "\n",
    "Item.instantiate_from_csv()"
   ],
   "outputs": [],
   "execution_count": 12
  },
  {
   "metadata": {},
   "cell_type": "code",
   "source": [
    "item1 = Item(\"Phone\", 100, 1)\n",
    "item2 = Item(\"Laptop\", 1000, 3)\n",
    "item3 = Item(\"Cable\", 10, 5)\n",
    "item4 = Item(\"Mouse\", 50, 5)\n",
    "item5 = Item(\"Keyboard\", 75, 5)"
   ],
   "id": "5243dd095100954e",
   "outputs": [],
   "execution_count": null
  },
  {
   "metadata": {},
   "cell_type": "code",
   "source": [
    "print(item1.calculate_total_price())\n",
    "print(item2.calculate_total_price())"
   ],
   "id": "8fe5c37de40f9137",
   "outputs": [],
   "execution_count": null
  },
  {
   "metadata": {},
   "cell_type": "code",
   "source": [
    "print(Item.pay_rate)\n",
    "print(item1.pay_rate)  # if no attribute on instance level, find on class level\n",
    "print(item2.pay_rate)"
   ],
   "id": "29bc6a32c4c05a6f",
   "outputs": [],
   "execution_count": null
  },
  {
   "metadata": {},
   "cell_type": "code",
   "source": [
    "print(Item.__dict__)  # __dict__ shows all the attributes, convert to dictionary (class level)\n",
    "print(item1.__dict__) # (instance level)"
   ],
   "id": "8572af89e9af7759",
   "outputs": [],
   "execution_count": null
  },
  {
   "metadata": {},
   "cell_type": "code",
   "source": [
    "item1.apply_discount()\n",
    "print(item1.price)"
   ],
   "id": "58626b92a6ff613c",
   "outputs": [],
   "execution_count": null
  },
  {
   "metadata": {},
   "cell_type": "code",
   "source": [
    "item2.pay_rate = 0.7  # override attribute\n",
    "item2.apply_discount()\n",
    "print(item2.price)"
   ],
   "id": "97a73b12f0f64d7f",
   "outputs": [],
   "execution_count": null
  },
  {
   "metadata": {},
   "cell_type": "code",
   "source": [
    "print(Item.all)\n",
    "for instance in Item.all:\n",
    "    print(instance.name)"
   ],
   "id": "7fb1c0650c9e8d09",
   "outputs": [],
   "execution_count": null
  },
  {
   "metadata": {},
   "cell_type": "code",
   "outputs": [],
   "execution_count": null,
   "source": [
    "'''\n",
    "When to use class methods and static methods?\n",
    "\n",
    "Static method:\n",
    "    has relationship with class,\n",
    "    but not unique per instance\n",
    "Class method:\n",
    "    has relationship with class,\n",
    "    and need to manipulate different structures of data\n",
    "    to instantiate objects (e.g. csv)\n",
    "\n",
    "Static methods don't pass anything in the background,\n",
    "but class methods need cls to be passed\n",
    "\n",
    "And both static and class methods can be called from instances,\n",
    "but no need...\n",
    "'''"
   ],
   "id": "eb8fb5fa7c13cd8c"
  },
  {
   "metadata": {},
   "cell_type": "code",
   "outputs": [],
   "execution_count": null,
   "source": [
    "print(Item.all)\n",
    "print(Item.is_integer(7))\n",
    "print(Item.is_integer(7.5))\n",
    "print(Item.is_integer(7.0))"
   ],
   "id": "6797998e60552b24"
  }
 ],
 "metadata": {
  "kernelspec": {
   "display_name": "Python [conda env:base] *",
   "language": "python",
   "name": "conda-base-py"
  },
  "language_info": {
   "codemirror_mode": {
    "name": "ipython",
    "version": 2
   },
   "file_extension": ".py",
   "mimetype": "text/x-python",
   "name": "python",
   "nbconvert_exporter": "python",
   "pygments_lexer": "ipython2",
   "version": "2.7.6"
  }
 },
 "nbformat": 4,
 "nbformat_minor": 5
}
