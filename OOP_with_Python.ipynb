{
 "cells": [
  {
   "metadata": {
    "collapsed": true
   },
   "cell_type": "code",
   "source": [
    "import csv\n",
    "\n",
    "class Item:\n",
    "    pay_rate = 0.8 # Class attribute\n",
    "    all = []\n",
    "\n",
    "    # Magic method __init__ is initialized when instance is created\n",
    "    def __init__(self, name: str, price: float, quantity=0):  # Initialize arguments, differentiate mandatory parameters\n",
    "        # assert: Run validations to the received arguments\n",
    "        assert price >= 0, f\"Price {price} is not greater or equal to 0\"\n",
    "        assert quantity >= 0, f\"Quantity {quantity} is not greater or equal to 0\"\n",
    "\n",
    "        # Assign to self object\n",
    "        self.name = name\n",
    "        self.price = price\n",
    "        self.quantity = quantity\n",
    "\n",
    "        # Actions to execute\n",
    "        Item.all.append(self)\n",
    "\n",
    "    def calculate_total_price(self):\n",
    "        return self.price * self.quantity\n",
    "\n",
    "    def apply_discount(self):\n",
    "        self.price = self.price * self.pay_rate\n",
    "\n",
    "    # Use CSV for storing data, items.csv\n",
    "    # Class method: can be accessed from class level only\n",
    "    # cls: class object is passed as first argument\n",
    "    @classmethod\n",
    "    def instantiate_from_csv(cls):\n",
    "        with open('items.csv', 'r') as f:\n",
    "            reader = csv.DictReader(f)\n",
    "            items = list(reader)\n",
    "\n",
    "        for item in items:\n",
    "            Item(\n",
    "                name = item.get('name'),\n",
    "                price = float(item.get('price')),\n",
    "                quantity = int(item.get('quantity'))\n",
    "            )\n",
    "\n",
    "    # Static method: no need to send object as first argument\n",
    "    @staticmethod\n",
    "    def is_integer(num):\n",
    "        if isinstance(num, float):\n",
    "            # Count out the floats that are point zero\n",
    "            return num.is_integer()\n",
    "        elif isinstance(num, int):\n",
    "            return True\n",
    "        else:\n",
    "            return False\n",
    "\n",
    "    '''\n",
    "    Difference between __str__ and __repr__:\n",
    "    while __str__ simply displays,\n",
    "    __repr__ represents for understanding\n",
    "    '''\n",
    "    def __repr__(self):  # Represent\n",
    "        return f\"{self.__class__.__name__}('{self.name}', '{self.price}', '{self.quantity}')\"\n",
    "\n",
    "Item.instantiate_from_csv()"
   ],
   "id": "f0c955a57b97333c",
   "outputs": [],
   "execution_count": null
  },
  {
   "metadata": {},
   "cell_type": "code",
   "source": [
    "item1 = Item(\"Phone\", 100, 1)\n",
    "item2 = Item(\"Laptop\", 1000, 3)\n",
    "item3 = Item(\"Cable\", 10, 5)\n",
    "item4 = Item(\"Mouse\", 50, 5)\n",
    "item5 = Item(\"Keyboard\", 75, 5)"
   ],
   "id": "5243dd095100954e",
   "outputs": [],
   "execution_count": null
  },
  {
   "metadata": {},
   "cell_type": "code",
   "source": [
    "print(item1.calculate_total_price())\n",
    "print(item2.calculate_total_price())"
   ],
   "id": "8fe5c37de40f9137",
   "outputs": [],
   "execution_count": null
  },
  {
   "metadata": {},
   "cell_type": "code",
   "source": [
    "print(Item.pay_rate)\n",
    "print(item1.pay_rate)  # if no attribute on instance level, find on class level\n",
    "print(item2.pay_rate)"
   ],
   "id": "29bc6a32c4c05a6f",
   "outputs": [],
   "execution_count": null
  },
  {
   "metadata": {},
   "cell_type": "code",
   "source": [
    "print(Item.__dict__)  # __dict__ shows all the attributes, convert to dictionary (class level)\n",
    "print(item1.__dict__) # (instance level)"
   ],
   "id": "8572af89e9af7759",
   "outputs": [],
   "execution_count": null
  },
  {
   "metadata": {},
   "cell_type": "code",
   "source": [
    "item1.apply_discount()\n",
    "print(item1.price)"
   ],
   "id": "58626b92a6ff613c",
   "outputs": [],
   "execution_count": null
  },
  {
   "metadata": {},
   "cell_type": "code",
   "source": [
    "item2.pay_rate = 0.7  # override attribute\n",
    "item2.apply_discount()\n",
    "print(item2.price)"
   ],
   "id": "97a73b12f0f64d7f",
   "outputs": [],
   "execution_count": null
  },
  {
   "metadata": {},
   "cell_type": "code",
   "source": [
    "print(Item.all)\n",
    "for instance in Item.all:\n",
    "    print(instance.name)"
   ],
   "id": "7fb1c0650c9e8d09",
   "outputs": [],
   "execution_count": null
  },
  {
   "metadata": {},
   "cell_type": "code",
   "source": [
    "'''\n",
    "When to use class methods and static methods?\n",
    "\n",
    "Static method:\n",
    "    has relationship with class,\n",
    "    but not unique per instance\n",
    "Class method:\n",
    "    has relationship with class,\n",
    "    and need to manipulate different structures of data\n",
    "    to instantiate objects (e.g. csv)\n",
    "\n",
    "Static methods don't pass anything in the background,\n",
    "but class methods need cls to be passed\n",
    "\n",
    "And both static and class methods can be called from instances,\n",
    "but no need...\n",
    "'''"
   ],
   "id": "eb8fb5fa7c13cd8c",
   "outputs": [],
   "execution_count": null
  },
  {
   "metadata": {},
   "cell_type": "code",
   "source": [
    "print(Item.all)\n",
    "print(Item.is_integer(7))\n",
    "print(Item.is_integer(7.5))\n",
    "print(Item.is_integer(7.0))"
   ],
   "id": "6797998e60552b24",
   "outputs": [],
   "execution_count": null
  },
  {
   "metadata": {},
   "cell_type": "code",
   "source": [
    "'''\n",
    "phone1 = Item(\"jscPhonev10\", 500, 5)\n",
    "phone1.broken_phones = 1\n",
    "phone2 = Item(\"jscPhonev20\", 700, 5)\n",
    "phone2.broken_phones = 1\n",
    "\n",
    "We don't have attributes for these,\n",
    "and might not be suitable for many occasions\n",
    "So create a separate class that inherits the original class\n",
    "(e.g. Phone)\n",
    "Parent class -> Child class\n",
    "'''\n",
    "\n",
    "class Phone(Item):\n",
    "    def __init__(self, name: str, price: float, quantity=0, broken_phones=0):\n",
    "        # Call to super function to have access to all attributes / methods\n",
    "        # super: can fully access the parent class\n",
    "        super().__init__(\n",
    "            name, price, quantity\n",
    "        )\n",
    "\n",
    "        assert broken_phones >= 0, f\"Broken Phones {broken_phones} is not greater or equal to 0\"\n",
    "\n",
    "        # Assign to self object\n",
    "        self.broken_phones = broken_phones\n",
    "\n",
    "phone1 = Phone(\"jscPhonev10\", 500, 5, 1)\n",
    "print(phone1.calculate_total_price())\n",
    "phone2 = Phone(\"jscPhonev20\", 700, 5, 1)"
   ],
   "id": "c72c8af535fe106",
   "outputs": [],
   "execution_count": null
  },
  {
   "metadata": {},
   "cell_type": "code",
   "source": [
    "print(Item.all)\n",
    "print(Phone.all)"
   ],
   "id": "d7e670f616dc7e39",
   "outputs": [],
   "execution_count": null
  },
  {
   "metadata": {},
   "cell_type": "code",
   "source": [
    "'''\n",
    "Principles of OOP:\n",
    "Encapsulation, Abstraction, Inheritance, Polymorphism\n",
    "\n",
    "1. Encapsulation: restrict direct access of attributes\n",
    "2. Abstraction: only show necessary information, hide others\n",
    "3. Inheritance: can reuse code of classes\n",
    "4. Polymorphism: single type entity can represent different\n",
    "types in different scenarios\n",
    "\n",
    "Abstract class: child class can fix the method in parent class\n",
    "'''"
   ],
   "id": "1174d62f6f92bc39",
   "outputs": [],
   "execution_count": null
  }
 ],
 "metadata": {
  "kernelspec": {
   "display_name": "Python [conda env:base] *",
   "language": "python",
   "name": "conda-base-py"
  },
  "language_info": {
   "codemirror_mode": {
    "name": "ipython",
    "version": 2
   },
   "file_extension": ".py",
   "mimetype": "text/x-python",
   "name": "python",
   "nbconvert_exporter": "python",
   "pygments_lexer": "ipython2",
   "version": "2.7.6"
  }
 },
 "nbformat": 4,
 "nbformat_minor": 5
}
